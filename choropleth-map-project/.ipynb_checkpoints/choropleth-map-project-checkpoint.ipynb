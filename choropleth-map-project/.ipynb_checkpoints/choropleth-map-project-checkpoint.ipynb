{
 "cells": [
  {
   "cell_type": "markdown",
   "metadata": {},
   "source": [
    "## UFRN - EEC2006 - TOPICOS ESPECIAIS F\n",
    "## Segundo trabalho \n",
    "\n",
    "Componentes:\n",
    "* **20171021275 - Fabio Fonseca de Oliveira**\n",
    "* **2016102462 - Júlio César Melo Gomes de Oliveira**\n",
    "* **20171021201 - Tiago Fernandes de Miranda**\n",
    "\n",
    "Notebook com solução do segundo trabalho proposto na disciplina. A seguir breve descrição de cada solução bem como suas informações específicas.\n",
    "\n",
    "#### 1) Mapa dinâmico da população das cidades do Nordeste do Brasil\n",
    "\n",
    "Neste trabalho temos por objetivo levantar a população de cada cidade da região nordeste do Brasil e apresenta-las de forma dinâmica em mapa de cores baseado na população de cada cidade.\n",
    "\n",
    "Link do vídeo explicativo: https://www.youtube.com/watch?v=sZr13jO46MY\n",
    "\n",
    "#### 2) Mapa dinâmico do tempo de espera de solicitações do serviço UBER dividido pelos bairros de Natal\n",
    "\n",
    "Neste trabalho faz-se necessário disponibilizar um mapa interativo que forneça o tempo médio de espera de usuários do UBER dividido por bairros da cidade de Natal. \n",
    "\n",
    "Link do vídeo explicativo: https://www.youtube.com/watch?v=w8aromvCWTc\n",
    "\n",
    "---"
   ]
  },
  {
   "cell_type": "markdown",
   "metadata": {},
   "source": [
    "*Importação dos pacotes necessários para o trabalho*"
   ]
  },
  {
   "cell_type": "code",
   "execution_count": 1,
   "metadata": {
    "collapsed": true
   },
   "outputs": [],
   "source": [
    "import folium\n",
    "import json\n",
    "import pandas as pd\n",
    "from branca.colormap import linear\n",
    "from branca.utilities import split_six\n",
    "import numpy as np\n",
    "from shapely.geometry import Polygon\n",
    "from shapely.geometry import Point\n",
    "from numpy import random\n",
    "import os\n",
    "import datetime as date\n",
    "from uber_rides.session import Session\n",
    "from uber_rides.client import UberRidesClient\n",
    "import csv\n",
    "import time\n",
    "from IPython.display import IFrame"
   ]
  },
  {
   "cell_type": "markdown",
   "metadata": {},
   "source": [
    "### 1) Mapa dinâmico da população das cidades do Nordeste do Brasil"
   ]
  },
  {
   "cell_type": "markdown",
   "metadata": {},
   "source": [
    "*Carregando dataset csv da população*"
   ]
  },
  {
   "cell_type": "code",
   "execution_count": 2,
   "metadata": {
    "collapsed": true
   },
   "outputs": [],
   "source": [
    "data2017 = pd.read_csv('population_2017.csv')"
   ]
  },
  {
   "cell_type": "markdown",
   "metadata": {},
   "source": [
    "*Tratamento dos nomes das colunas do dataset*"
   ]
  },
  {
   "cell_type": "code",
   "execution_count": 3,
   "metadata": {
    "collapsed": true
   },
   "outputs": [],
   "source": [
    "data2017.columns = [cols.replace(' ', '_') for cols in data2017.columns]"
   ]
  },
  {
   "cell_type": "code",
   "execution_count": 4,
   "metadata": {
    "scrolled": true
   },
   "outputs": [
    {
     "data": {
      "text/html": [
       "<div>\n",
       "<style>\n",
       "    .dataframe thead tr:only-child th {\n",
       "        text-align: right;\n",
       "    }\n",
       "\n",
       "    .dataframe thead th {\n",
       "        text-align: left;\n",
       "    }\n",
       "\n",
       "    .dataframe tbody tr th {\n",
       "        vertical-align: top;\n",
       "    }\n",
       "</style>\n",
       "<table border=\"1\" class=\"dataframe\">\n",
       "  <thead>\n",
       "    <tr style=\"text-align: right;\">\n",
       "      <th></th>\n",
       "      <th>UF</th>\n",
       "      <th>COD._UF</th>\n",
       "      <th>COD._MUNIC</th>\n",
       "      <th>NOME_DO_MUNICÍPIO</th>\n",
       "      <th>POPULAÇÃO_ESTIMADA</th>\n",
       "    </tr>\n",
       "  </thead>\n",
       "  <tbody>\n",
       "    <tr>\n",
       "      <th>0</th>\n",
       "      <td>RO</td>\n",
       "      <td>11.0</td>\n",
       "      <td>15.0</td>\n",
       "      <td>Alta Floresta D'Oeste</td>\n",
       "      <td>25437.0</td>\n",
       "    </tr>\n",
       "    <tr>\n",
       "      <th>1</th>\n",
       "      <td>RO</td>\n",
       "      <td>11.0</td>\n",
       "      <td>23.0</td>\n",
       "      <td>Ariquemes</td>\n",
       "      <td>107345.0</td>\n",
       "    </tr>\n",
       "    <tr>\n",
       "      <th>2</th>\n",
       "      <td>RO</td>\n",
       "      <td>11.0</td>\n",
       "      <td>31.0</td>\n",
       "      <td>Cabixi</td>\n",
       "      <td>6224.0</td>\n",
       "    </tr>\n",
       "    <tr>\n",
       "      <th>3</th>\n",
       "      <td>RO</td>\n",
       "      <td>11.0</td>\n",
       "      <td>49.0</td>\n",
       "      <td>Cacoal</td>\n",
       "      <td>88507.0</td>\n",
       "    </tr>\n",
       "    <tr>\n",
       "      <th>4</th>\n",
       "      <td>RO</td>\n",
       "      <td>11.0</td>\n",
       "      <td>56.0</td>\n",
       "      <td>Cerejeiras</td>\n",
       "      <td>17934.0</td>\n",
       "    </tr>\n",
       "  </tbody>\n",
       "</table>\n",
       "</div>"
      ],
      "text/plain": [
       "   UF  COD._UF  COD._MUNIC      NOME_DO_MUNICÍPIO  POPULAÇÃO_ESTIMADA\n",
       "0  RO     11.0        15.0  Alta Floresta D'Oeste             25437.0\n",
       "1  RO     11.0        23.0              Ariquemes            107345.0\n",
       "2  RO     11.0        31.0                 Cabixi              6224.0\n",
       "3  RO     11.0        49.0                 Cacoal             88507.0\n",
       "4  RO     11.0        56.0             Cerejeiras             17934.0"
      ]
     },
     "execution_count": 4,
     "metadata": {},
     "output_type": "execute_result"
    }
   ],
   "source": [
    "data2017.head()"
   ]
  },
  {
   "cell_type": "markdown",
   "metadata": {},
   "source": [
    "*Carregamento do arquivo geojson da região nordeste do Brasil*"
   ]
  },
  {
   "cell_type": "code",
   "execution_count": 5,
   "metadata": {
    "collapsed": true
   },
   "outputs": [],
   "source": [
    "geo_json_name_file = 'geojs-NE-mun.json'\n",
    "geo_json_data = json.load(open(geo_json_name_file,encoding='latin-1'))"
   ]
  },
  {
   "cell_type": "markdown",
   "metadata": {},
   "source": [
    "*Seleção do subconjunto contendo os dados populacionais das cidades dos estados do nordeste do Brasil*"
   ]
  },
  {
   "cell_type": "code",
   "execution_count": 6,
   "metadata": {
    "collapsed": true
   },
   "outputs": [],
   "source": [
    "dataNE = data2017[(data2017['UF'] == 'RN') | (data2017['UF'] == 'BA') | (data2017['UF'] == 'AL')\n",
    "                 | (data2017['UF'] == 'CE') | (data2017['UF'] == 'MA') | (data2017['UF'] == 'PB')\n",
    "                 | (data2017['UF'] == 'PE') | (data2017['UF'] == 'PI') | (data2017['UF'] == 'SE')\n",
    "                 ]"
   ]
  },
  {
   "cell_type": "markdown",
   "metadata": {},
   "source": [
    "*Reordenação dos dados selecionados com base no nome das cidades*"
   ]
  },
  {
   "cell_type": "code",
   "execution_count": 7,
   "metadata": {},
   "outputs": [
    {
     "data": {
      "text/html": [
       "<div>\n",
       "<style>\n",
       "    .dataframe thead tr:only-child th {\n",
       "        text-align: right;\n",
       "    }\n",
       "\n",
       "    .dataframe thead th {\n",
       "        text-align: left;\n",
       "    }\n",
       "\n",
       "    .dataframe tbody tr th {\n",
       "        vertical-align: top;\n",
       "    }\n",
       "</style>\n",
       "<table border=\"1\" class=\"dataframe\">\n",
       "  <thead>\n",
       "    <tr style=\"text-align: right;\">\n",
       "      <th></th>\n",
       "      <th>UF</th>\n",
       "      <th>COD._UF</th>\n",
       "      <th>COD._MUNIC</th>\n",
       "      <th>NOME_DO_MUNICÍPIO</th>\n",
       "      <th>POPULAÇÃO_ESTIMADA</th>\n",
       "    </tr>\n",
       "  </thead>\n",
       "  <tbody>\n",
       "    <tr>\n",
       "      <th>891</th>\n",
       "      <td>CE</td>\n",
       "      <td>23.0</td>\n",
       "      <td>101.0</td>\n",
       "      <td>Abaiara</td>\n",
       "      <td>11605.0</td>\n",
       "    </tr>\n",
       "    <tr>\n",
       "      <th>1828</th>\n",
       "      <td>BA</td>\n",
       "      <td>29.0</td>\n",
       "      <td>207.0</td>\n",
       "      <td>Abaré</td>\n",
       "      <td>20189.0</td>\n",
       "    </tr>\n",
       "    <tr>\n",
       "      <th>1827</th>\n",
       "      <td>BA</td>\n",
       "      <td>29.0</td>\n",
       "      <td>108.0</td>\n",
       "      <td>Abaíra</td>\n",
       "      <td>9199.0</td>\n",
       "    </tr>\n",
       "    <tr>\n",
       "      <th>1465</th>\n",
       "      <td>PE</td>\n",
       "      <td>26.0</td>\n",
       "      <td>54.0</td>\n",
       "      <td>Abreu e Lima</td>\n",
       "      <td>99364.0</td>\n",
       "    </tr>\n",
       "    <tr>\n",
       "      <th>1829</th>\n",
       "      <td>BA</td>\n",
       "      <td>29.0</td>\n",
       "      <td>306.0</td>\n",
       "      <td>Acajutiba</td>\n",
       "      <td>15727.0</td>\n",
       "    </tr>\n",
       "  </tbody>\n",
       "</table>\n",
       "</div>"
      ],
      "text/plain": [
       "      UF  COD._UF  COD._MUNIC NOME_DO_MUNICÍPIO  POPULAÇÃO_ESTIMADA\n",
       "891   CE     23.0       101.0           Abaiara             11605.0\n",
       "1828  BA     29.0       207.0             Abaré             20189.0\n",
       "1827  BA     29.0       108.0            Abaíra              9199.0\n",
       "1465  PE     26.0        54.0      Abreu e Lima             99364.0\n",
       "1829  BA     29.0       306.0         Acajutiba             15727.0"
      ]
     },
     "execution_count": 7,
     "metadata": {},
     "output_type": "execute_result"
    }
   ],
   "source": [
    "dataNE = dataNE.sort_values('NOME_DO_MUNICÍPIO')\n",
    "dataNE.head()"
   ]
  },
  {
   "cell_type": "markdown",
   "metadata": {},
   "source": [
    "*Configurando o index do dataset atual e obtendo apenas os dados populacionais*"
   ]
  },
  {
   "cell_type": "code",
   "execution_count": 8,
   "metadata": {},
   "outputs": [
    {
     "data": {
      "text/plain": [
       "NOME_DO_MUNICÍPIO\n",
       "Abaiara         11605.0\n",
       "Abaré           20189.0\n",
       "Abaíra           9199.0\n",
       "Abreu e Lima    99364.0\n",
       "Acajutiba       15727.0\n",
       "Name: POPULAÇÃO_ESTIMADA, dtype: float64"
      ]
     },
     "execution_count": 8,
     "metadata": {},
     "output_type": "execute_result"
    }
   ],
   "source": [
    "population_dict = dataNE.set_index('NOME_DO_MUNICÍPIO')['POPULAÇÃO_ESTIMADA']\n",
    "population_dict.head()"
   ]
  },
  {
   "cell_type": "markdown",
   "metadata": {},
   "source": [
    "*Criando mapa com centro na região nordeste*"
   ]
  },
  {
   "cell_type": "code",
   "execution_count": 9,
   "metadata": {
    "collapsed": true
   },
   "outputs": [],
   "source": [
    "m = folium.Map(\n",
    "    location=[-9.6837525, -40.7405724],\n",
    "    zoom_start=6,\n",
    "    tiles='Stamen Terrain'\n",
    ")"
   ]
  },
  {
   "cell_type": "markdown",
   "metadata": {},
   "source": [
    "*Configurando a legenda de cores do mapa*"
   ]
  },
  {
   "cell_type": "code",
   "execution_count": 10,
   "metadata": {
    "collapsed": true
   },
   "outputs": [],
   "source": [
    "population_min = dataNE['POPULAÇÃO_ESTIMADA'].min()\n",
    "population_max = dataNE['POPULAÇÃO_ESTIMADA'].max()\n",
    "threshold_scale = np.linspace(population_min,population_max,6,dtype=int).tolist()"
   ]
  },
  {
   "cell_type": "markdown",
   "metadata": {},
   "source": [
    "*Configurando o mapa e salvando em arquivo externo*"
   ]
  },
  {
   "cell_type": "code",
   "execution_count": 11,
   "metadata": {
    "collapsed": true,
    "scrolled": false
   },
   "outputs": [],
   "source": [
    "m.choropleth(\n",
    "    geo_data=geo_json_data,\n",
    "    data=dataNE,\n",
    "    columns=['NOME_DO_MUNICÍPIO', 'POPULAÇÃO_ESTIMADA'],\n",
    "    key_on='feature.properties.description',\n",
    "    fill_color='YlOrRd',\n",
    "    legend_name='Population estimation (2017)',\n",
    "    highlight=True,\n",
    "    threshold_scale = threshold_scale\n",
    ")\n",
    "\n",
    "m.save('pop_nordeste_map.html')"
   ]
  },
  {
   "cell_type": "markdown",
   "metadata": {},
   "source": [
    "*Carregando arquivo externo resultante e disponibilizando em um frame*"
   ]
  },
  {
   "cell_type": "code",
   "execution_count": 12,
   "metadata": {
    "scrolled": false
   },
   "outputs": [
    {
     "data": {
      "text/html": [
       "\n",
       "        <iframe\n",
       "            width=\"975\"\n",
       "            height=\"815\"\n",
       "            src=\"pop_nordeste_map.html\"\n",
       "            frameborder=\"0\"\n",
       "            allowfullscreen\n",
       "        ></iframe>\n",
       "        "
      ],
      "text/plain": [
       "<IPython.lib.display.IFrame at 0x7fc39fd22cc0>"
      ]
     },
     "execution_count": 12,
     "metadata": {},
     "output_type": "execute_result"
    }
   ],
   "source": [
    "IFrame('pop_nordeste_map.html', width=975, height=815)"
   ]
  },
  {
   "cell_type": "markdown",
   "metadata": {},
   "source": [
    "### 2) Mapa dinâmico do tempo de espera de solicitações do serviço UBER dividido pelos bairros de Natal"
   ]
  },
  {
   "cell_type": "markdown",
   "metadata": {},
   "source": [
    "*Configura conexão com API do UBER através de token*"
   ]
  },
  {
   "cell_type": "code",
   "execution_count": 13,
   "metadata": {
    "collapsed": true
   },
   "outputs": [],
   "source": [
    "session = Session(server_token='ZZgDb4jQCbM3loUFQN8-QSpQubTKiX6qp14o-k63')\n",
    "client = UberRidesClient(session)"
   ]
  },
  {
   "cell_type": "markdown",
   "metadata": {},
   "source": [
    "*Carrega os arquivos geojson de Natal*"
   ]
  },
  {
   "cell_type": "code",
   "execution_count": 14,
   "metadata": {
    "collapsed": true
   },
   "outputs": [],
   "source": [
    "geo_json_natal = json.load(open('natal.geojson',encoding='UTF-8'))"
   ]
  },
  {
   "cell_type": "markdown",
   "metadata": {},
   "source": [
    "*Definição de duas funções: uma que cria pontos aleatórios dentro dos poligonos associados aos bairros\n",
    " e outra que retorna uma coluna de uma matriz*"
   ]
  },
  {
   "cell_type": "code",
   "execution_count": 15,
   "metadata": {
    "collapsed": true
   },
   "outputs": [],
   "source": [
    "def generate_random(number, polygon, polys_nhood):\n",
    "    list_of_points = []\n",
    "    minx, miny, maxx, maxy = polygon.bounds\n",
    "    counter = 0\n",
    "    while counter < number:\n",
    "        x = random.uniform(minx, maxx)\n",
    "        y = random.uniform(miny, maxy)\n",
    "        pnt = Point(x, y)\n",
    "        if polygon.contains(pnt):\n",
    "            list_of_points.append([x,y,polys_nhood])\n",
    "            counter += 1\n",
    "    return list_of_points"
   ]
  },
  {
   "cell_type": "code",
   "execution_count": 16,
   "metadata": {
    "collapsed": true
   },
   "outputs": [],
   "source": [
    "def column(matrix,i):\n",
    "    return [row[i] for row in matrix]"
   ]
  },
  {
   "cell_type": "markdown",
   "metadata": {},
   "source": [
    "*Código responsável por gerar pontos aleatórios dentro de cada bairro*"
   ]
  },
  {
   "cell_type": "code",
   "execution_count": 17,
   "metadata": {},
   "outputs": [
    {
     "data": {
      "text/plain": [
       "18000"
      ]
     },
     "execution_count": 17,
     "metadata": {},
     "output_type": "execute_result"
    }
   ],
   "source": [
    "number_of_points = 500\n",
    "neigh_rand_points = []\n",
    "count = 0\n",
    "for feature in geo_json_natal['features']:\n",
    "    neighborhood = feature['properties']['name']\n",
    "    geom = feature['geometry']['coordinates']\n",
    "    polygon = Polygon(geom[0])\n",
    "    points = generate_random(number_of_points,polygon, neighborhood)\n",
    "    for i,value in enumerate(points):\n",
    "        log, lat, name = value           \n",
    "        neigh_rand_points.append([count,i,log,lat,name,0,0])\n",
    "        count = count + 1\n",
    "            \n",
    "len(neigh_rand_points)"
   ]
  },
  {
   "cell_type": "markdown",
   "metadata": {},
   "source": [
    "*Organiza o nome das colunas do dataframe recém criado, seguindo o formato utilizado pela API do UBER*"
   ]
  },
  {
   "cell_type": "code",
   "execution_count": 18,
   "metadata": {
    "collapsed": true
   },
   "outputs": [],
   "source": [
    "fieldnames  = ['key', 'idx', 'logintude', 'latitude', 'neighborhood', 'time(s)', 'money(R$)']\n",
    "data = {fieldnames[0]: column(neigh_rand_points,0), \n",
    "        fieldnames[1]: column(neigh_rand_points,1), \n",
    "        fieldnames[2]: column(neigh_rand_points,2),\n",
    "        fieldnames[3]: column(neigh_rand_points,3),\n",
    "        fieldnames[4]: column(neigh_rand_points,4),\n",
    "        fieldnames[5]: column(neigh_rand_points,5),\n",
    "        fieldnames[6]: column(neigh_rand_points,6)}\n",
    "df = pd.DataFrame(data, columns=fieldnames)"
   ]
  },
  {
   "cell_type": "markdown",
   "metadata": {},
   "source": [
    "*Script de coleta do tempo de espera para cada ponto gerado aleatoriamente*"
   ]
  },
  {
   "cell_type": "code",
   "execution_count": 19,
   "metadata": {
    "collapsed": true
   },
   "outputs": [],
   "source": [
    "coletar_dados = 0\n",
    "if coletar_dados:\n",
    "    n_count = 0\n",
    "    print(date.datetime.now(), ' - Iniciando coleta dados')\n",
    "    for index, row  in df.iterrows():\n",
    "        latitude = df.loc[index,'latitude']\n",
    "        longitude = df.loc[index,'logintude']\n",
    "        neighborhood_name =  df.loc[index,'neighborhood']\n",
    "        wait_time = client.get_pickup_time_estimates(start_latitude = latitude, start_longitude = longitude)                  \n",
    "     \n",
    "        if(len(wait_time.json.get('times'))==0):\n",
    "            print(date.datetime.now(), ' - Valor nulo obtido: [',index,'=>',neighborhood_name,' (',latitude,',',longitude,')]')\n",
    "        else:\n",
    "            df.loc[index,'time(s)'] = wait_time.json.get('times')[0]['estimate']     \n",
    "        \n",
    "        n_count = n_count + 1\n",
    "        time.sleep(2)\n",
    "        if(n_count==50):\n",
    "            print(date.datetime.now(), ' - Salvando dados parciais no arquivo externo (',index,'/',df.shape[0],')')\n",
    "            filename = 'neigh_rand_points.csv'\n",
    "            df.to_csv('neigh_rand_points.csv', encoding = 'utf-8', index=False)\n",
    "            n_count = 0        \n",
    "\n",
    "    print(date.datetime.now(), ' - Coleta de dados finalizada')"
   ]
  },
  {
   "cell_type": "markdown",
   "metadata": {},
   "source": [
    "*Lendo arquivo CSV resultante da coleta dos dados para processamento do mapa*"
   ]
  },
  {
   "cell_type": "code",
   "execution_count": 20,
   "metadata": {
    "collapsed": true
   },
   "outputs": [],
   "source": [
    "df = pd.read_csv('dados_uber_bkp_03112017.csv',encoding = 'utf-8')"
   ]
  },
  {
   "cell_type": "markdown",
   "metadata": {},
   "source": [
    "*Obtendo nome dos bairros a partir do CSV resultante da coleta*"
   ]
  },
  {
   "cell_type": "code",
   "execution_count": 21,
   "metadata": {},
   "outputs": [
    {
     "name": "stdout",
     "output_type": "stream",
     "text": [
      "['Pitimbu', 'Planalto', 'Ponta Negra', 'Neópolis', 'Capim Macio', 'Lagoa Azul', 'Pajuçara', 'Lagoa Seca', 'Barro Vermelho', 'Candelária', 'Praia do Meio', 'Rocas', 'Santos Reis', 'Redinha', 'Salinas', 'Igapó', 'Nossa Senhora da Apresentação', 'Potengi', 'Ribeira', 'Cidade Alta', 'Alecrim', 'Nordeste', 'Quintas', 'Bom Pastor', 'Dix-Sept Rosado', 'Nossa Senhora de Nazaré', 'Lagoa Nova', 'Mãe Luiza', 'Nova Descoberta', 'Tirol', 'Petrópolis', 'Areia Preta', 'Cidade Nova', 'Cidade da Esperança', 'Felipe Camarão', 'Guarapes']\n"
     ]
    }
   ],
   "source": [
    "name_neigh = []\n",
    "name_neigh.append([p for p in df['neighborhood'].unique()])\n",
    "name_neigh = name_neigh[0]\n",
    "print(name_neigh)"
   ]
  },
  {
   "cell_type": "markdown",
   "metadata": {},
   "source": [
    "*Preparando dataframe que armazenará o tempo médio de espera para cada bairro*"
   ]
  },
  {
   "cell_type": "code",
   "execution_count": 22,
   "metadata": {},
   "outputs": [
    {
     "data": {
      "text/html": [
       "<div>\n",
       "<style>\n",
       "    .dataframe thead tr:only-child th {\n",
       "        text-align: right;\n",
       "    }\n",
       "\n",
       "    .dataframe thead th {\n",
       "        text-align: left;\n",
       "    }\n",
       "\n",
       "    .dataframe tbody tr th {\n",
       "        vertical-align: top;\n",
       "    }\n",
       "</style>\n",
       "<table border=\"1\" class=\"dataframe\">\n",
       "  <thead>\n",
       "    <tr style=\"text-align: right;\">\n",
       "      <th></th>\n",
       "      <th>neighborhood</th>\n",
       "      <th>mean_time(s)</th>\n",
       "    </tr>\n",
       "  </thead>\n",
       "  <tbody>\n",
       "    <tr>\n",
       "      <th>0</th>\n",
       "      <td>Pitimbu</td>\n",
       "      <td>0</td>\n",
       "    </tr>\n",
       "    <tr>\n",
       "      <th>1</th>\n",
       "      <td>Planalto</td>\n",
       "      <td>0</td>\n",
       "    </tr>\n",
       "    <tr>\n",
       "      <th>2</th>\n",
       "      <td>Ponta Negra</td>\n",
       "      <td>0</td>\n",
       "    </tr>\n",
       "    <tr>\n",
       "      <th>3</th>\n",
       "      <td>Neópolis</td>\n",
       "      <td>0</td>\n",
       "    </tr>\n",
       "    <tr>\n",
       "      <th>4</th>\n",
       "      <td>Capim Macio</td>\n",
       "      <td>0</td>\n",
       "    </tr>\n",
       "  </tbody>\n",
       "</table>\n",
       "</div>"
      ],
      "text/plain": [
       "  neighborhood  mean_time(s)\n",
       "0      Pitimbu             0\n",
       "1     Planalto             0\n",
       "2  Ponta Negra             0\n",
       "3     Neópolis             0\n",
       "4  Capim Macio             0"
      ]
     },
     "execution_count": 22,
     "metadata": {},
     "output_type": "execute_result"
    }
   ],
   "source": [
    "fieldnames  = ['neighborhood', 'mean_time(s)']\n",
    "zero = np.zeros(len(name_neigh), dtype=np.int).tolist()\n",
    "data = {fieldnames[0]: name_neigh, \n",
    "        fieldnames[1]: zero}\n",
    "neigh_data = pd.DataFrame(data, columns=fieldnames)\n",
    "neigh_data.head()"
   ]
  },
  {
   "cell_type": "markdown",
   "metadata": {},
   "source": [
    "*Para cada bairro é feito o calculo do tempo médio de espera, em segundos*"
   ]
  },
  {
   "cell_type": "code",
   "execution_count": 23,
   "metadata": {},
   "outputs": [
    {
     "data": {
      "text/html": [
       "<div>\n",
       "<style>\n",
       "    .dataframe thead tr:only-child th {\n",
       "        text-align: right;\n",
       "    }\n",
       "\n",
       "    .dataframe thead th {\n",
       "        text-align: left;\n",
       "    }\n",
       "\n",
       "    .dataframe tbody tr th {\n",
       "        vertical-align: top;\n",
       "    }\n",
       "</style>\n",
       "<table border=\"1\" class=\"dataframe\">\n",
       "  <thead>\n",
       "    <tr style=\"text-align: right;\">\n",
       "      <th></th>\n",
       "      <th>neighborhood</th>\n",
       "      <th>mean_time(s)</th>\n",
       "    </tr>\n",
       "  </thead>\n",
       "  <tbody>\n",
       "    <tr>\n",
       "      <th>0</th>\n",
       "      <td>Pitimbu</td>\n",
       "      <td>263.16</td>\n",
       "    </tr>\n",
       "    <tr>\n",
       "      <th>1</th>\n",
       "      <td>Planalto</td>\n",
       "      <td>563.16</td>\n",
       "    </tr>\n",
       "    <tr>\n",
       "      <th>2</th>\n",
       "      <td>Ponta Negra</td>\n",
       "      <td>395.16</td>\n",
       "    </tr>\n",
       "    <tr>\n",
       "      <th>3</th>\n",
       "      <td>Neópolis</td>\n",
       "      <td>336.36</td>\n",
       "    </tr>\n",
       "    <tr>\n",
       "      <th>4</th>\n",
       "      <td>Capim Macio</td>\n",
       "      <td>356.04</td>\n",
       "    </tr>\n",
       "  </tbody>\n",
       "</table>\n",
       "</div>"
      ],
      "text/plain": [
       "  neighborhood  mean_time(s)\n",
       "0      Pitimbu        263.16\n",
       "1     Planalto        563.16\n",
       "2  Ponta Negra        395.16\n",
       "3     Neópolis        336.36\n",
       "4  Capim Macio        356.04"
      ]
     },
     "execution_count": 23,
     "metadata": {},
     "output_type": "execute_result"
    }
   ],
   "source": [
    "for i,name in neigh_data.iterrows():\n",
    "    listN = df['time(s)'].where(df['neighborhood'] == name['neighborhood']).dropna()    \n",
    "    neigh_data.loc[i,'mean_time(s)'] = sum(listN)/len(listN)\n",
    "neigh_data.head()"
   ]
  },
  {
   "cell_type": "markdown",
   "metadata": {},
   "source": [
    "*Configurando legenda de cores do mapa*"
   ]
  },
  {
   "cell_type": "code",
   "execution_count": 24,
   "metadata": {
    "collapsed": true
   },
   "outputs": [],
   "source": [
    "# threshold_scale = np.linspace(neigh_data['mean_time(s)'].min(),\n",
    "#                               neigh_data['mean_time(s)'].max(), 10, dtype=float).tolist()\n",
    "threshold_scale =  split_six(neigh_data['mean_time(s)'])"
   ]
  },
  {
   "cell_type": "markdown",
   "metadata": {},
   "source": [
    "*Criação do mapa e carregamento do arquivo geojson de Natal no mapa*"
   ]
  },
  {
   "cell_type": "code",
   "execution_count": 25,
   "metadata": {
    "collapsed": true
   },
   "outputs": [],
   "source": [
    "m1 = folium.Map(\n",
    "    location=[-5.826592, -35.212558],\n",
    "    zoom_start=11,\n",
    "    tiles='Stamen Terrain'\n",
    ")"
   ]
  },
  {
   "cell_type": "markdown",
   "metadata": {},
   "source": [
    "*Configuração do mapa e salvando em arquivo externo*"
   ]
  },
  {
   "cell_type": "code",
   "execution_count": 26,
   "metadata": {
    "collapsed": true
   },
   "outputs": [],
   "source": [
    "m1.choropleth(\n",
    "    geo_data=geo_json_natal,\n",
    "    data=neigh_data,\n",
    "    columns=['neighborhood', 'mean_time(s)'],\n",
    "    key_on='feature.properties.name',\n",
    "    fill_color='YlGnBu',\n",
    "    legend_name='Time estimation in seconds (2017)',\n",
    "    highlight=True,\n",
    "    threshold_scale = threshold_scale\n",
    ")\n",
    "\n",
    "m1.save('wait_time_uber_natal.html')"
   ]
  },
  {
   "cell_type": "markdown",
   "metadata": {},
   "source": [
    "*Carregando arquivo externo resultante e disponibilizando em um frame*"
   ]
  },
  {
   "cell_type": "code",
   "execution_count": 27,
   "metadata": {},
   "outputs": [
    {
     "data": {
      "text/html": [
       "\n",
       "        <iframe\n",
       "            width=\"975\"\n",
       "            height=\"815\"\n",
       "            src=\"wait_time_uber_natal.html\"\n",
       "            frameborder=\"0\"\n",
       "            allowfullscreen\n",
       "        ></iframe>\n",
       "        "
      ],
      "text/plain": [
       "<IPython.lib.display.IFrame at 0x7fc39f7bf7b8>"
      ]
     },
     "execution_count": 27,
     "metadata": {},
     "output_type": "execute_result"
    }
   ],
   "source": [
    "IFrame('wait_time_uber_natal.html', width=975, height=815)"
   ]
  }
 ],
 "metadata": {
  "kernelspec": {
   "display_name": "Python 3",
   "language": "python",
   "name": "python3"
  },
  "language_info": {
   "codemirror_mode": {
    "name": "ipython",
    "version": 3
   },
   "file_extension": ".py",
   "mimetype": "text/x-python",
   "name": "python",
   "nbconvert_exporter": "python",
   "pygments_lexer": "ipython3",
   "version": "3.6.2"
  }
 },
 "nbformat": 4,
 "nbformat_minor": 2
}
